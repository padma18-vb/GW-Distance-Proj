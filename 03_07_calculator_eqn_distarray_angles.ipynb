{
 "cells": [
  {
   "cell_type": "markdown",
   "metadata": {},
   "source": [
    "# Non-Localized Gravitational Wave Distances"
   ]
  },
  {
   "cell_type": "markdown",
   "metadata": {},
   "source": [
    "The non localized distance to a gravitaitonal wave signal can be estimated using the equation \n",
    "\n",
    "$$D = \\frac{2c}{h_+} \\left( \\frac{G \\mathcal{M}}{c^3}\\right)^{5/3} \\Omega^{\\frac{2}{3}}(t) \\left(1+cos^2i\\right) cos2\\Phi(t)$$\n",
    "\n",
    "where $h_+$ is the maximum strain of the GW, $\\mathcal{M}$ is the Chirp Mass of the gravitational wave. $\\Omega(t)$ is the Keplerian orbital frequency over time. \"Keplerian\" just means it was derived from Kepler's laws of orbital motion and Newton's theory of gravity instead of Einsteins theory of General Relativity. $\\Phi(t)$ is the accumulated orbital phase (this term is a type of mathemitcal correction to fix the build up of errors when integrating the orbital frequency $\\Omega$ over a continuous time interval). \n",
    "\n",
    "\n",
    "Note: When perfoming the calculation, however, you get a more accurate estimate of the distance using the Combined mass $M$ the GW instead of the Chirp mass $\\mathcal{M}$. I am not sure why this is the case, but I will keep looking. If you have any ideas as to why this discrepency exist, let me know!\n",
    "\n"
   ]
  },
  {
   "cell_type": "markdown",
   "metadata": {},
   "source": [
    "The goal of this assignment is to derive an analytic expression for $D$  which can be used to estimate distances. To do this, we first need to derive a funcitonal form of  $\\Omega(t)$  and  $\\Phi(t)$. \n",
    "\n",
    "The first equation you will be deriving is $\\Omega(t)$. To do this, solve the first order differential equation below for an expression where $\\Omega \\propto t$. Watch your exponents! \n",
    "\n",
    "\n",
    "$$\\frac{d\\Omega}{dt} = \\frac{96}{5}\\left(\\frac{G \\mathcal{M}}{c^3}\\right)^{5/3}\\Omega^{11/3}$$"
   ]
  },
  {
   "cell_type": "markdown",
   "metadata": {},
   "source": [
    "Next, we will need to derive an expression for the function $\\Phi(t)$. The general equation for $\\Phi(t)$ is:\n",
    "\n",
    "$$\\Phi(t) = \\int_t{\\Omega(t)} dt$$\n",
    "\n",
    "To solve for $\\Phi(t)$, plug your expression for $\\omega(t)$ into the integral above and integrate from $0 \\rightarrow t$, and once again, watch your exponents!"
   ]
  },
  {
   "cell_type": "markdown",
   "metadata": {},
   "source": [
    "And that should be all the parts we need to begin developing a calculator! If you are feeling adventurous, try plugging in these values from GW150914. The observable parameters you need are $Combined$ $Mass$ ($M$), the maximum strain ($h_+$), and the duration of the signal in seconds ($t$). \n",
    "\n",
    "$t = 32s$\n",
    "\n",
    "$M = 63.1 M_{\\odot}$\n",
    "\n",
    "$h_+ = 7.912043421880075 \\times 10^{-19} Hz$"
   ]
  },
  {
   "cell_type": "code",
   "execution_count": 14,
   "metadata": {},
   "outputs": [],
   "source": [
    "import math\n",
    "import numpy as np\n",
    "from astropy.table import Table"
   ]
  },
  {
   "cell_type": "code",
   "execution_count": 15,
   "metadata": {},
   "outputs": [
    {
     "data": {
      "text/plain": [
       "394.17565185908205"
      ]
     },
     "execution_count": 15,
     "metadata": {},
     "output_type": "execute_result"
    }
   ],
   "source": [
    "G = 6.67e-11 # N kg^-2 m^2\n",
    "c = 3e8 # m/s\n",
    "\n",
    "def distance_to_GW(t, M_sol, h_max, i):\n",
    "    '''This function will give the non-localized distance (in Mpc) to the gravitational wave \n",
    "    when inputting time in seconds, combined mass (or chirp mass) in solar masses, and the maximum strain in Hz.'''\n",
    "    \n",
    "    M = M_sol * (2 * 10**30) # gives mass in kg\n",
    "    \n",
    "    term1 = (5/256)**(3/8)\n",
    "    term2 = ((c**3) / (G * M))**(5/8)\n",
    "    term3 = (1 / (t**(3/8)))\n",
    "    term4 = (t**(5/8))\n",
    "    \n",
    "    orbital_freq = term1 * term2 * term3\n",
    "    orbital_phase = np.round(0.36571582 * term2 * term4) #round terms to third sig fig, round the constant to third sig fig\n",
    "    \n",
    "    distance = (2*c / h_max) * (G*M / (c**3))**(5/3) * orbital_freq**(2/3) *(1 + np.cos(i)**2)* abs(np.cos(2 * orbital_phase)) # this is distance in meters\n",
    "    \n",
    "    #print(orbital_freq) # printed this just to check the value of it\n",
    "    #print(orbital_phase) # printed this just to check the value of it\n",
    "    \n",
    "    return distance / (9.223 * 10**18)#i returns distance in Mpc. 2.25 update: change [distance / (9.223 * 10**18), i]\n",
    "    # distance only, for debugging best_i_arr. If anyone need to use best_angle again, please change the return statement to the original one\n",
    "\n",
    "distance_to_GW(32, 63.1, 7.912043421880075e-19, np.pi/2)"
   ]
  },
  {
   "cell_type": "code",
   "execution_count": 16,
   "metadata": {},
   "outputs": [],
   "source": [
    "array_of_inclinations = np.array([distance_to_GW(32, 63.1, 7.912043421880075e-19, x) for x in np.arange(0, np.pi/2, np.pi/180)])"
   ]
  },
  {
   "cell_type": "code",
   "execution_count": 17,
   "metadata": {},
   "outputs": [
    {
     "data": {
      "text/plain": [
       "\"def best_angle(distances):\\n    Computes the best angle by minimizing the distances calculated to the actual distance i.e 440 Mpc\\n    best_difference = float('inf')\\n    best_angle = 0\\n    \\n    for i in distances:\\n        \\n        best_d = abs(i[0] - best_value)\\n        \\n        if best_d < best_difference:\\n            best_difference = best_d\\n            best_angle = i[1]\\n            \\n    return best_angle\""
      ]
     },
     "execution_count": 17,
     "metadata": {},
     "output_type": "execute_result"
    }
   ],
   "source": [
    "'''def best_angle(distances):\n",
    "    Computes the best angle by minimizing the distances calculated to the actual distance i.e 440 Mpc\n",
    "    best_difference = float('inf')\n",
    "    best_angle = 0\n",
    "    \n",
    "    for i in distances:\n",
    "        \n",
    "        best_d = abs(i[0] - best_value)\n",
    "        \n",
    "        if best_d < best_difference:\n",
    "            best_difference = best_d\n",
    "            best_angle = i[1]\n",
    "            \n",
    "    return best_angle'''\n",
    "#best_angle(array_of_inclinations)"
   ]
  },
  {
   "cell_type": "code",
   "execution_count": 18,
   "metadata": {},
   "outputs": [],
   "source": [
    "def best_i(actual_dis, f): # a helper function for best_i_arr, does similar things as best_angle\n",
    "    angle_lst = np.arange(0, math.pi / 2, math.pi / 180)\n",
    "    best_dif = float('inf')\n",
    "    best_i = 0\n",
    "    for i in range(len(angle_lst)):\n",
    "        d = f(angle_lst[i])\n",
    "        if abs(d - actual_dis) < best_dif:\n",
    "            best_i = angle_lst[i]\n",
    "            best_dif = abs(d - actual_dis)\n",
    "\n",
    "    return best_i\n",
    "\n",
    "def best_i_arr(actual_arr, t_arr, chirp_mass_arr, h_max_arr): # give it arrays of: actual distance, time, h_max, and chirp_mass\n",
    "    i_array = []\n",
    "    f_arr = []  #a helper function array that returns gw_distance but only need to input angle i\n",
    "    for n in range(len(t_arr)):\n",
    "        f_arr.append(lambda x: distance_to_GW(t_arr[n],chirp_mass_arr[n], h_max_arr[n], x))\n",
    "\n",
    "    for m in range(len(f_arr)):\n",
    "        i_array.append(best_i(actual_arr[m], f_arr[m]))\n",
    "        print(best_i(actual_arr[m], f_arr[m]))\n",
    "\n",
    "    return i_array\n",
    "\n",
    "def gw_dis_array(t_arr, chirp_mass_arr, h_max_arr, i_arr):\n",
    "    ret = []\n",
    "    for i in range(len(t_arr)):\n",
    "        ret.append(distance_to_GW(t_arr[i], chirp_mass_arr[i], h_max_arr[i], i_arr[i]))\n",
    "    return ret\n"
   ]
  },
  {
   "cell_type": "code",
   "execution_count": 19,
   "metadata": {},
   "outputs": [
    {
     "data": {
      "text/plain": [
       "1.2217304763960306"
      ]
     },
     "execution_count": 19,
     "metadata": {},
     "output_type": "execute_result"
    }
   ],
   "source": [
    "best_i(440, lambda i: distance_to_GW(32, 63.1, 7.912043421880075e-19,i))"
   ]
  },
  {
   "cell_type": "code",
   "execution_count": 20,
   "metadata": {},
   "outputs": [
    {
     "name": "stdout",
     "output_type": "stream",
     "text": [
      "1.2217304763960306\n"
     ]
    },
    {
     "data": {
      "text/plain": [
       "[1.2217304763960306]"
      ]
     },
     "execution_count": 20,
     "metadata": {},
     "output_type": "execute_result"
    }
   ],
   "source": [
    "best_i_arr([440], [32], [63.1], [7.912043421880075e-19])"
   ]
  },
  {
   "cell_type": "code",
   "execution_count": 21,
   "metadata": {
    "scrolled": true
   },
   "outputs": [
    {
     "data": {
      "text/plain": [
       "[394.17565185908205]"
      ]
     },
     "execution_count": 21,
     "metadata": {},
     "output_type": "execute_result"
    }
   ],
   "source": [
    "gw_dis_array([32], [63.1], [7.912043421880075e-19], [math.pi/2])"
   ]
  },
  {
   "cell_type": "markdown",
   "metadata": {},
   "source": [
    "All the data:"
   ]
  },
  {
   "cell_type": "code",
   "execution_count": 22,
   "metadata": {},
   "outputs": [],
   "source": [
    "GW150914 = 'H-H1_GWOSC_16KHZ_R1-1126259447-32.txt'\n",
    "GW151226 = 'H-H1_GWOSC_16KHZ_R1-1135136335-32.txt'\n",
    "GW170104 = 'H-H1_GWOSC_16KHZ_R1-1167559921-32.txt'\n",
    "GW170608 = 'H-H1_GWOSC_16KHZ_R1-1180922479-32.txt'\n",
    "GW170814 = 'H-H1_GWOSC_16KHZ_R1-1186741846-32.txt'\n",
    "GW170817 = 'H-H1_GWOSC_16KHZ_R1-1187008867-32.txt'\n",
    "GW190425 = 'L-L1_GWOSC_16KHZ_R1-1240215487-32.txt' #not sure about this one, there was no H1 file for this, only L1 and V1\n",
    "GW190412 = 'H-H1_GWOSC_16KHZ_R1-1239082247-32.txt'\n",
    "GW190814 = 'H-H1_GWOSC_16KHZ_R1-1249852241-32.txt'\n",
    "GW190521 = 'H-H1_GWOSC_16KHZ_R2-1242442952-32.txt'\n",
    "\n",
    "GW150914_tbl = Table.read(GW150914, format='ascii')\n",
    "GW151226_tbl = Table.read(GW151226, format='ascii')\n",
    "GW170104_tbl = Table.read(GW170104, format='ascii')\n",
    "GW170608_tbl = Table.read(GW170608, format='ascii')\n",
    "GW170814_tbl = Table.read(GW170814, format='ascii')\n",
    "GW170817_tbl = Table.read(GW170817, format='ascii')\n",
    "GW190425_tbl = Table.read(GW190425, format='ascii') #this is the L1 file\n",
    "GW190412_tbl = Table.read(GW190412, format='ascii')\n",
    "GW190814_tbl = Table.read(GW190814, format='ascii')\n",
    "GW190521_tbl = Table.read(GW190521, format='ascii')"
   ]
  },
  {
   "cell_type": "code",
   "execution_count": 23,
   "metadata": {},
   "outputs": [],
   "source": [
    "GW150914_strain = GW150914_tbl['6.0951345581611108e-21']\n",
    "GW151226_strain = GW151226_tbl['2.7996600287459531e-20']\n",
    "GW170104_strain = GW170104_tbl['-2.9550085672987675e-19']\n",
    "GW170608_strain = GW170608_tbl['1.6421373582598675e-20']\n",
    "GW170814_strain = GW170814_tbl['-7.6681619209110251e-19']\n",
    "GW170817_strain = GW170817_tbl['5.8751133791669278e-19']\n",
    "GW190425_strain = GW190425_tbl['-5.5244482372502713e-20'] #this is the L1 file\n",
    "GW190412_strain = GW190412_tbl['-4.4229543869287918e-19']\n",
    "GW190814_strain = GW190814_tbl['-3.0160263673448252e-20']\n",
    "GW190521_strain = GW190521_tbl['-6.9973189495553901e-21']"
   ]
  },
  {
   "cell_type": "code",
   "execution_count": 24,
   "metadata": {},
   "outputs": [
    {
     "data": {
      "text/plain": [
       "7.912043421880075e-19"
      ]
     },
     "execution_count": 24,
     "metadata": {},
     "output_type": "execute_result"
    }
   ],
   "source": [
    "np.max(GW150914_strain)"
   ]
  },
  {
   "cell_type": "code",
   "execution_count": 25,
   "metadata": {},
   "outputs": [],
   "source": [
    "luminosity_dist = np.array([440., 450., 990., 320., 600., 40., 159., 740., 241., 5300.])"
   ]
  },
  {
   "cell_type": "code",
   "execution_count": 26,
   "metadata": {},
   "outputs": [
    {
     "data": {
      "text/plain": [
       "array([7.91204342e-19, 7.64093901e-19, 1.09868798e-18, 1.21593786e-18,\n",
       "       1.03229132e-18, 1.22448503e-18, 1.14255567e-18, 7.76549134e-19,\n",
       "       2.26387764e-19, 3.21561850e-19])"
      ]
     },
     "execution_count": 26,
     "metadata": {},
     "output_type": "execute_result"
    }
   ],
   "source": [
    "strains = np.array([GW150914_strain, GW151226_strain, GW170104_strain, GW170608_strain, GW170814_strain, GW170817_strain, GW190425_strain, GW190412_strain, GW190814_strain, GW190521_strain])\n",
    "max_strains = np.array([max(i) for i in strains])\n",
    "max_strains"
   ]
  },
  {
   "cell_type": "code",
   "execution_count": 27,
   "metadata": {},
   "outputs": [],
   "source": [
    "times = np.array([32., 32., 32., 32., 32., 32., 32., 32., 32., 32.])\n",
    "final_masses = np.array([63.1, 20.5, 48.9, 17.8, 53.2, 2.8, 3.3, 38.4, 25.8, 150])\n",
    "angles = [np.pi/2]*10"
   ]
  },
  {
   "cell_type": "markdown",
   "metadata": {},
   "source": [
    "Array of distances (without angle array for now):"
   ]
  },
  {
   "cell_type": "code",
   "execution_count": 28,
   "metadata": {},
   "outputs": [
    {
     "data": {
      "text/plain": [
       "[394.17565185908205,\n",
       " 94.19891921989779,\n",
       " 259.359971086683,\n",
       " 61.11345645856675,\n",
       " 88.36687441327018,\n",
       " 2.5335893505939415,\n",
       " 7.552106209846678,\n",
       " 129.01678145393177,\n",
       " 604.0358941240461,\n",
       " 3882.8653361535685]"
      ]
     },
     "execution_count": 28,
     "metadata": {},
     "output_type": "execute_result"
    }
   ],
   "source": [
    "gw_dis_array(times, final_masses, max_strains, angles)"
   ]
  },
  {
   "cell_type": "code",
   "execution_count": 29,
   "metadata": {},
   "outputs": [
    {
     "name": "stdout",
     "output_type": "stream",
     "text": [
      "1.5533430342749532\n",
      "1.5533430342749532\n",
      "1.5533430342749532\n",
      "1.5533430342749532\n",
      "1.5533430342749532\n",
      "1.5533430342749532\n",
      "1.5533430342749532\n",
      "1.5533430342749532\n",
      "1.5533430342749532\n",
      "0.9250245035569946\n"
     ]
    },
    {
     "data": {
      "text/plain": [
       "[1.5533430342749532,\n",
       " 1.5533430342749532,\n",
       " 1.5533430342749532,\n",
       " 1.5533430342749532,\n",
       " 1.5533430342749532,\n",
       " 1.5533430342749532,\n",
       " 1.5533430342749532,\n",
       " 1.5533430342749532,\n",
       " 1.5533430342749532,\n",
       " 0.9250245035569946]"
      ]
     },
     "execution_count": 29,
     "metadata": {},
     "output_type": "execute_result"
    }
   ],
   "source": [
    "best_i_arr(luminosity_dist, times, final_masses, max_strains)"
   ]
  },
  {
   "cell_type": "code",
   "execution_count": 83,
   "metadata": {},
   "outputs": [],
   "source": [
    "def best_distance(lum_dist, times, masses, max_str):\n",
    "    \n",
    "    #logistics\n",
    "    #assert len(lum_dist) == len(times) == len(masses) == len(max_str) == 10\n",
    "    lum_dist = np.array(lum_dist)\n",
    "    masses = np.array(masses)\n",
    "    times = np.array(times)\n",
    "    max_str = np.array(max_str)\n",
    "    \n",
    "    #calc\n",
    "    distance_and_angles = []\n",
    "    for i in np.arange(len(times)):\n",
    "        d = [] #shape = (2, 90)\n",
    "        for angle in np.arange(0, np.pi/2, 0.01):\n",
    "            distance = distance_to_GW(times[i], masses[i], max_str[i], angle)\n",
    "            dist_for_angle = np.array([distance, angle])\n",
    "            #print(dist_for_angle)\n",
    "            d.append(dist_for_angle)\n",
    "        ith_dist_angle = best_result(d, lum_dist[i])\n",
    "        distance_and_angles.append(ith_dist_angle)\n",
    "        \n",
    "    return distance_and_angles\n",
    "\n",
    "\n",
    "def best_result(distances, lum_dist):\n",
    "    '''Computes the best angle by minimizing the distances calculated to the actual distance'''\n",
    "    best_difference = float('inf')\n",
    "    best_angle = 0\n",
    "    \n",
    "    for i in distances: \n",
    "        \n",
    "        best_d = abs(i[0] - lum_dist) #i[0] = estimated distance\n",
    "        #print(i[0])\n",
    "        if best_d < best_difference:\n",
    "            best_difference = best_d\n",
    "            best_arr = i\n",
    "            #print(i)\n",
    "    return best_arr"
   ]
  },
  {
   "cell_type": "code",
   "execution_count": 84,
   "metadata": {},
   "outputs": [
    {
     "data": {
      "text/plain": [
       "[array([440.7248002,   1.22     ]),\n",
       " array([188.39783844,   0.        ]),\n",
       " array([518.71994217,   0.        ]),\n",
       " array([122.22691292,   0.        ]),\n",
       " array([176.73374883,   0.        ]),\n",
       " array([5.0671787, 0.       ]),\n",
       " array([15.10421242,  0.        ]),\n",
       " array([258.03356291,   0.        ]),\n",
       " array([604.03627717,   1.57      ]),\n",
       " array([5.30794705e+03, 9.20000000e-01])]"
      ]
     },
     "execution_count": 84,
     "metadata": {},
     "output_type": "execute_result"
    }
   ],
   "source": [
    "best_distance(luminosity_dist, times, final_masses, max_strains)"
   ]
  },
  {
   "cell_type": "code",
   "execution_count": 36,
   "metadata": {
    "scrolled": true
   },
   "outputs": [
    {
     "data": {
      "text/plain": [
       "(array([ 440.,  450.,  990.,  320.,  600.,   40.,  159.,  740.,  241.,\n",
       "        5300.]),\n",
       " array([ 63.1,  20.5,  48.9,  17.8,  53.2,   2.8,   3.3,  38.4,  25.8,\n",
       "        150. ]),\n",
       " array([7.91204342e-19, 7.64093901e-19, 1.09868798e-18, 1.21593786e-18,\n",
       "        1.03229132e-18, 1.22448503e-18, 1.14255567e-18, 7.76549134e-19,\n",
       "        2.26387764e-19, 3.21561850e-19]))"
      ]
     },
     "execution_count": 36,
     "metadata": {},
     "output_type": "execute_result"
    }
   ],
   "source": [
    "luminosity_dist, final_masses, max_strains"
   ]
  },
  {
   "cell_type": "code",
   "execution_count": 82,
   "metadata": {
    "scrolled": false
   },
   "outputs": [
    {
     "name": "stdout",
     "output_type": "stream",
     "text": [
      "7765.730679207248\n",
      "7765.342405616\n",
      "7764.177740146514\n",
      "7762.23714864945\n",
      "7759.521407335533\n",
      "7756.0316024650765\n",
      "7751.769129913504\n",
      "7746.735694612997\n",
      "7740.933309870569\n",
      "7734.364296562751\n",
      "7727.031282207283\n",
      "7718.937199912131\n",
      "7710.085287202297\n",
      "7700.47908472484\n",
      "7690.122434832667\n",
      "7679.01948004765\n",
      "7667.174661403667\n",
      "7654.592716670248\n",
      "7641.2786784575255\n",
      "7627.237872203267\n",
      "7612.475914042769\n",
      "7596.998708562468\n",
      "7580.8124464382\n",
      "7563.923601958999\n",
      "7546.338930437475\n",
      "7528.065465507777\n",
      "7509.110516312233\n",
      "7489.481664577797\n",
      "7469.186761583443\n",
      "7448.233925019776\n",
      "7426.631535742053\n",
      "7404.3882344179565\n",
      "7381.512918071446\n",
      "7358.014736524056\n",
      "7333.903088735103\n",
      "7309.187619042217\n",
      "7283.878213303741\n",
      "7257.984994944517\n",
      "7231.518320906646\n",
      "7204.488777506865\n",
      "7176.907176202139\n",
      "7148.784549265244\n",
      "7120.1321453719875\n",
      "7090.961425101906\n",
      "7061.284056354166\n",
      "7031.111909680572\n",
      "7000.457053537507\n",
      "6969.331749458698\n",
      "6937.748447150783\n",
      "6905.719779513578\n",
      "6873.2585575870935\n",
      "6840.377765427293\n",
      "6807.090554912628\n",
      "6773.41024048349\n",
      "6739.35029381658\n",
      "6704.924338436442\n",
      "6670.1461442662185\n",
      "6635.029622119874\n",
      "6599.588818138055\n",
      "6563.837908169818\n",
      "6527.791192102473\n",
      "6491.463088141835\n",
      "6454.868127045118\n",
      "6418.020946308834\n",
      "6380.93628431399\n",
      "6343.628974430926\n",
      "6306.113939086174\n",
      "6268.406183793674\n",
      "6230.520791152784\n",
      "6192.472914815425\n",
      "6154.277773424837\n",
      "6115.950644528312\n",
      "6077.506858466389\n",
      "6038.961792240912\n",
      "6000.330863364448\n",
      "5961.629523693474\n",
      "5922.873253247846\n",
      "5884.077554019002\n",
      "5845.25794376936\n",
      "5806.429949825438\n",
      "5767.609102867108\n",
      "5728.810930715552\n",
      "5690.0509521223275\n",
      "5651.344670562079\n",
      "5612.707568031355\n",
      "5574.155098856012\n",
      "5535.702683509694\n",
      "5497.365702445848\n",
      "5459.159489945746\n",
      "5421.099327984981\n",
      "5383.200440120872\n",
      "5345.477985403255\n",
      "5307.947052311056\n",
      "5270.6226527171075\n",
      "5233.519715883596\n",
      "5196.653082490553\n",
      "5160.0374986997895\n",
      "5123.687610256618\n",
      "5087.61795663176\n",
      "5051.842965205741\n",
      "5016.376945498139\n",
      "4981.234083443962\n",
      "4946.428435719468\n",
      "4911.973924119678\n",
      "4877.884329989841\n",
      "4844.17328871309\n",
      "4810.85428425646\n",
      "4777.940643777489\n",
      "4745.445532293521\n",
      "4713.381947415891\n",
      "4681.762714151041\n",
      "4650.60047977069\n",
      "4619.907708753103\n",
      "4589.696677797454\n",
      "4559.979470913315\n",
      "4530.767974587217\n",
      "4502.073873028211\n",
      "4473.908643494335\n",
      "4446.283551701871\n",
      "4419.209647319208\n",
      "4392.697759547118\n",
      "4366.758492787223\n",
      "4341.402222400373\n",
      "4316.639090556644\n",
      "4292.479002178607\n",
      "4268.931620979476\n",
      "4246.006365597776\n",
      "4223.712405829989\n",
      "4202.058658962776\n",
      "4181.05378620617\n",
      "4160.706189229214\n",
      "4141.024006799401\n",
      "4122.015111527273\n",
      "4103.687106717496\n",
      "4086.047323327621\n",
      "4069.10281703581\n",
      "4052.860365418657\n",
      "4037.326465240243\n",
      "4022.507329853527\n",
      "4008.4088867150776\n",
      "3995.0367750141704\n",
      "3982.3963434171965\n",
      "3970.4926479282553\n",
      "3959.3304498668294\n",
      "3948.914213963317\n",
      "3939.2481065731977\n",
      "3930.3359940105474\n",
      "3922.1814410015654\n",
      "3914.7877092587282\n",
      "3908.157756176153\n",
      "3902.2942336466717\n",
      "3897.1994870011195\n",
      "3892.8755540702246\n",
      "3889.324164369508\n",
      "3886.546738407498\n",
      "3884.544387117548\n",
      "3883.3179114134773\n",
      "3882.8678018692126\n"
     ]
    },
    {
     "data": {
      "text/plain": [
       "[array([5.30794705e+03, 9.20000000e-01])]"
      ]
     },
     "execution_count": 82,
     "metadata": {},
     "output_type": "execute_result"
    }
   ],
   "source": [
    "best_distance([5300], [32], [150], [3.21561850e-19])"
   ]
  },
  {
   "cell_type": "code",
   "execution_count": 67,
   "metadata": {},
   "outputs": [
    {
     "data": {
      "text/plain": [
       "174.78198060278297"
      ]
     },
     "execution_count": 67,
     "metadata": {},
     "output_type": "execute_result"
    }
   ],
   "source": [
    "#distance_to_GW(32, 6.41, 2.26387764e-19, 0) not working"
   ]
  },
  {
   "cell_type": "code",
   "execution_count": 69,
   "metadata": {},
   "outputs": [
    {
     "data": {
      "text/plain": [
       "89.15455496723729"
      ]
     },
     "execution_count": 69,
     "metadata": {},
     "output_type": "execute_result"
    }
   ],
   "source": [
    "distance_to_GW(32, 28.6 , 7.91204342e-19, 0)"
   ]
  },
  {
   "cell_type": "code",
   "execution_count": 77,
   "metadata": {},
   "outputs": [
    {
     "data": {
      "text/plain": [
       "258.03356291055053"
      ]
     },
     "execution_count": 77,
     "metadata": {},
     "output_type": "execute_result"
    }
   ],
   "source": [
    "distance_to_GW(32, 38.4, 7.76549134e-19, 0)"
   ]
  },
  {
   "cell_type": "code",
   "execution_count": null,
   "metadata": {},
   "outputs": [],
   "source": []
  }
 ],
 "metadata": {
  "kernelspec": {
   "display_name": "Python 3",
   "language": "python",
   "name": "python3"
  },
  "language_info": {
   "codemirror_mode": {
    "name": "ipython",
    "version": 3
   },
   "file_extension": ".py",
   "mimetype": "text/x-python",
   "name": "python",
   "nbconvert_exporter": "python",
   "pygments_lexer": "ipython3",
   "version": "3.8.3"
  }
 },
 "nbformat": 4,
 "nbformat_minor": 2
}
