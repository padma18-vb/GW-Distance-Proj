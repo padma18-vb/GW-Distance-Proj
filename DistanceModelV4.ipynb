{
 "cells": [
  {
   "cell_type": "code",
   "execution_count": null,
   "metadata": {},
   "outputs": [],
   "source": [
    "%matplotlib notebook\n",
    "import GWDistancePipeline\n",
    "import numpy as np\n",
    "from astropy.table import Table\n",
    "import matplotlib.pyplot as plt\n",
    "import h5py\n",
    "import matplotlib.mlab as mlab\n",
    "import scipy\n",
    "from scipy.interpolate import interp1d\n",
    "from scipy.signal import butter, filtfilt\n",
    "import mpmath\n",
    "from scipy.optimize import curve_fit\n",
    "# import readligo as rl"
   ]
  },
  {
   "cell_type": "markdown",
   "metadata": {},
   "source": [
    "# Origional Strain Model: \n",
    "\n",
    "$$d_{new}=nd_{old} = n \\left[\\frac{2c}{h_+} \\left( \\frac{G \\mathcal{M}}{c^3}\\right)^{5/3} \\Omega^{\\frac{2}{3}}(t) \\left(1+cos^2i\\right) cos2\\Phi(t)\\right]$$ \n",
    "\n",
    "$$n = \\frac{d_L}{d_0} = \\frac{d_{old}}{d_{actual}}$$\n",
    "\n",
    "$$\\mathcal{A_{+}}=h_{+}= \\frac{d_0}{d_L}\\frac{1+cos^2i}{2} \\rightarrow \\left(1+cos^2i\\right) = \\frac{2d_Lh_{+}}{d_0}$$\n",
    "\n",
    "$$h_+ = \\frac{1+cos^2i}{2n}$$\n",
    "\n",
    "# Updated Strain Model:\n",
    "\n",
    "(3.2) $$h_{IFO} = A h_+ + B h_\\times$$\n",
    "\n",
    "(3.4a) $$h_+ \\equiv \\frac{2 \\mathcal{M}}{d} \\left(\\pi \\mathcal{M} \\mathcal{f} \\right)^{2/3} \\left(1+cos^2i\\right) cos\\left(\\Phi + \\Psi \\right) = \\frac{2 \\mathcal{M}}{d} \\left(\\pi \\mathcal{M} \\mathcal{f} \\right)^{2/3} \\left(1+cos^2i\\right) cos\\left(2\\Phi(t) \\right)$$\n",
    "\n",
    "(3.4b) $$h_\\times \\equiv \\frac{4 \\mathcal{M}}{d}\\left(\\pi \\mathcal{M} \\mathcal{f} \\right)^{2/3} \\left(cosi\\right) sin\\left(\\Phi + \\Psi \\right) = \\frac{4 \\mathcal{M}}{d}\\left(\\pi \\mathcal{M} \\mathcal{f} \\right)^{2/3} \\left(cosi\\right) sin\\left(2\\Phi(t)\\right)$$ \n",
    "\n",
    "(3.5d) $$\\mathcal{M} \\equiv \\left(1+z\\right) \\mu^{3/5} M^{2/5}$$   \n",
    "\n",
    "(3.5e) $$\\Phi(t) \\equiv -2 \\left(\\frac{T-t}{5 \\mathcal{M}}\\right)^{5/8}$$ \n",
    "\n",
    "(3.5f) $$\\mathcal{f} \\equiv \\frac{1}{\\pi \\mathcal{M}} \\left[\\frac{5}{256} \\frac{\\mathcal{M}}{T-t}\\right]^{3/8}$$\n",
    "\n",
    "\n",
    "### Variable Explanation: \n",
    "\n",
    "$\\mu \\equiv \\frac{m_1 m_2}{m_1 + m_2}$\n",
    "\n",
    "$T = $ Newtonian \"moment of coalescence\"\n",
    "\n",
    "$\\Psi(t=T) = \\Phi(T) $ phase of binary system when $t=T$\n",
    "\n",
    "$M =$ total combined mass of system \n",
    "\n",
    "$\\mu = \\frac{m_1m_2}{m_1+m_2} = $ reduced mass\n",
    "\n",
    "$\\mathcal{f} =$ gravitational radiation frequency\n",
    "\n",
    "# Expressing updated model in terms that can be plotted\n",
    "1. Express $h_{IFO}$ in terms of $\\frac{h_+}{h_\\times}$ $\\rightarrow$ $h_{IFO} = h_\\times \\left(A \\left(\\frac{h_+}{h_\\times}\\right)+B\\right)$\n",
    "\n",
    "2. Find the ratio $\\frac{h_+}{h_\\times} = \\frac{1}{2}cot\\left(2 \\Phi\\right)\\left(sec(i) + cos(i)\\right)$\n",
    "\n",
    "3. Plug $\\frac{h_+}{h_\\times}$ and $h_\\times$ into $h_{IFO}$ to get the final expression...\n",
    "\n",
    "$$\\boxed{h_{IFO} = 2 K sin (2\\Phi) \\left[\\frac{A}{2}cot(2\\Phi) \\left(1+cos^2i\\right) + B cosi\\right]}$$\n",
    "\n",
    "where $K \\equiv \\frac{2 \\mathcal{M}}{d} \\left(\\pi \\mathcal{M}\\mathcal{f}\\right)^{2/3}$\n",
    "\n",
    "**source: Fin et al. 2008, https://arxiv.org/pdf/gr-qc/9301003.pdf"
   ]
  },
  {
   "cell_type": "markdown",
   "metadata": {},
   "source": [
    "# Helper Functions"
   ]
  },
  {
   "cell_type": "code",
   "execution_count": null,
   "metadata": {},
   "outputs": [],
   "source": [
    "# FFT function\n",
    "def FTA(strain, time, sampling_freq, plot=False):\n",
    "    \n",
    "    fft = np.fft.rfft(strain) / sampling_freq\n",
    "    freq = np.fft.rfftfreq(len(strain)) * sampling_freq\n",
    "    \n",
    "    if plot == True: \n",
    "        plt.figure(figsize = (8,5))\n",
    "        plt.loglog(freq, abs(fft))\n",
    "        plt.xlim(10,2000)\n",
    "        plt.grid()\n",
    "        plt.xlabel('Freq (Hz)')\n",
    "        plt.ylabel('Strain / Hz')\n",
    "        plt.show()\n",
    "    return freq, fft\n",
    "\n",
    "# Power Spectral Density (PSD) function\n",
    "def PSD(strain, fs, window, plot=False):\n",
    "    NFFT = 4 * fs\n",
    "    NOVL = 1 * NFFT / 2\n",
    "    pxx, freqs = mlab.psd(strain, Fs=fs, NFFT=NFFT, window=window, noverlap=NOVL)\n",
    "    if plot == True: \n",
    "        plt.figure(figsize = (8,5))\n",
    "        plt.loglog(freqs, pxx)\n",
    "        plt.xlim(10,2000)\n",
    "        plt.grid()\n",
    "        plt.ylabel('PSD')\n",
    "        plt.xlabel('Freq (Hz)')\n",
    "        plt.show()\n",
    "    return pxx, freqs\n",
    "\n",
    "# Amplitude Spectral Density (ASD) function\n",
    "def ASD(strain, sampling_freq, plot=False):\n",
    "    pxx, freqs = mlab.psd(strain, Fs=sampling_freq, NFFT=2*sampling_freq)\n",
    "    if plot == True: \n",
    "        plt.figure(figsize = (8,5))\n",
    "        plt.loglog(freqs, np.sqrt(pxx))\n",
    "        plt.xlim(10,2000)\n",
    "        plt.grid()\n",
    "        plt.ylabel('Strain / Hz$^{1/2}$')\n",
    "        plt.xlabel('Freq (Hz)')\n",
    "        plt.show()\n",
    "    return np.sqrt(pxx), freqs"
   ]
  },
  {
   "cell_type": "markdown",
   "metadata": {},
   "source": [
    "# Getting Segments of Data\n",
    "* GWOSC Coding Tutorial: https://www.gw-openscience.org/tutorial02/"
   ]
  },
  {
   "cell_type": "code",
   "execution_count": null,
   "metadata": {},
   "outputs": [],
   "source": [
    "GW150914_file = 'H-H1_LOSC_4_V2-1126257414-4096.hdf5' # H1 strain\n",
    "GW150914d = h5py.File(GW150914_file, 'r') #data file"
   ]
  },
  {
   "cell_type": "code",
   "execution_count": null,
   "metadata": {},
   "outputs": [],
   "source": [
    "def GetSegments(data, plot_raw=False): \n",
    "    \n",
    "    N = 10000\n",
    "    sf = 4096 # sampling freq in Hz\n",
    "    dt = N / sf\n",
    "    \n",
    "    # load in the data and chose the good reasons\n",
    "    strain = data['strain']['Strain'].value\n",
    "    ts = data['strain']['Strain'].attrs['Xspacing']\n",
    "    \n",
    "    metaKeys = data['meta'].keys()\n",
    "    meta = data['meta']\n",
    "    \n",
    "    gpsStart = meta[('GPSstart')].value\n",
    "    duration = meta[('Duration')].value\n",
    "    \n",
    "    dqInfo = data['quality']['simple']\n",
    "    bitnameList = dqInfo['DQShortnames'].value\n",
    "    nbits = len(bitnameList)\n",
    "    qmask = dqInfo['DQmask'].value\n",
    "    \n",
    "    gpsEnd = gpsStart + len(qmask)\n",
    "    time = np.arange(gpsStart, gpsEnd, ts)\n",
    "    t_center = 1126259462 # approximate time of merger event for GW150914\n",
    "    \n",
    "    print('Current Version: V.1 (7/18/2021)') # Don't forget to update as necessary\n",
    "    print('Hard coded for GW150914 to determine segments of good data in the \"BURST\" category.')\n",
    "    \n",
    "    # Chose the correct type of data \n",
    "    sci = (qmask >> 0) & 1  # sci = 1 when data passes the \"DATA\" category tests; sci = 0 when it fails\n",
    "    burst1  = (qmask >> 4) & 1 # sets locations where qmask >> 4 == 1\n",
    "    burst2  = (qmask >> 5) & 1 \n",
    "    burst3  = (qmask >> 6) & 1 \n",
    "    \n",
    "    # Create good_data segments\n",
    "    dummy1 = np.zeros(burst1.shape)\n",
    "    masked_dummy1 = np.ma.masked_array(dummy1, np.logical_not(burst1))\n",
    "    \n",
    "    dummy2 = np.zeros(burst2.shape)\n",
    "    masked_dummy2 = np.ma.masked_array(dummy2, np.logical_not(burst2))\n",
    "    \n",
    "    dummy3 = np.zeros(burst3.shape)\n",
    "    masked_dummy3 = np.ma.masked_array(dummy3, np.logical_not(burst3)) \n",
    "    \n",
    "    # locate regions of good data inside masked_dummy array\n",
    "    segments1 = np.ma.flatnotmasked_contiguous(masked_dummy1)\n",
    "    segments2 = np.ma.flatnotmasked_contiguous(masked_dummy2)\n",
    "    segments3 = np.ma.flatnotmasked_contiguous(masked_dummy3)\n",
    "\n",
    "    # Create list of segements seperated by time_ax\n",
    "    segList1 = [(int(seg.start+gpsStart), int(seg.stop+gpsStart)) for seg in segments1]\n",
    "    segList2 = [(int(seg.start+gpsStart), int(seg.stop+gpsStart)) for seg in segments2]\n",
    "    segList3 = [(int(seg.start+gpsStart), int(seg.stop+gpsStart)) for seg in segments3]\n",
    "    \n",
    "    # Plot Raw Data \n",
    "    if plot_raw == True: \n",
    "        plt.figure(figsize = (9,5))\n",
    "        plt.plot(time - time[0], strain)\n",
    "        plt.xlabel('GPS time [s]')\n",
    "        plt.ylabel('Strain')\n",
    "        plt.grid()\n",
    "        plt.show()\n",
    "\n",
    "    return strain, time, dt, ts, sf, segList1, segList2, segList3"
   ]
  },
  {
   "cell_type": "code",
   "execution_count": null,
   "metadata": {
    "scrolled": false
   },
   "outputs": [],
   "source": [
    "strain, time, dt, ts, sf, segList1, segList2, segList3 = GetSegments(GW150914d, plot_raw=True)"
   ]
  },
  {
   "cell_type": "code",
   "execution_count": null,
   "metadata": {},
   "outputs": [],
   "source": []
  },
  {
   "cell_type": "code",
   "execution_count": null,
   "metadata": {},
   "outputs": [],
   "source": []
  },
  {
   "cell_type": "code",
   "execution_count": null,
   "metadata": {},
   "outputs": [],
   "source": []
  },
  {
   "cell_type": "code",
   "execution_count": null,
   "metadata": {},
   "outputs": [],
   "source": []
  },
  {
   "cell_type": "markdown",
   "metadata": {},
   "source": [
    "# Chosing good data"
   ]
  },
  {
   "cell_type": "code",
   "execution_count": null,
   "metadata": {},
   "outputs": [],
   "source": [
    "# Function to get good regions of data \n",
    "def GoodData(time_ax, strain_ax, dt, segList, plot=False, plt_bin=False):\n",
    "    # Returns & plots regions of good quality data for a given data file and good_data segments\n",
    "    \n",
    "    print('There are ' + str(len(segList)) + ' regions of good data in the segment list.')\n",
    "    print('')\n",
    "    print('Which segment would you like to choose?')\n",
    "    seg = input('Segment: ')\n",
    "    \n",
    "    t_start = segList[int(seg)][0]\n",
    "    t_stop = segList[int(seg)][1]\n",
    "    print('')\n",
    "    print('--------------')\n",
    "    print('')\n",
    "    print('Chosen segment: ' + str(seg))\n",
    "    print('GPS Start time: ' + str(t_start) + 's')\n",
    "    print('GPS Stop time: ' + str(t_stop) + 's')\n",
    "\n",
    "    \n",
    "    ind_start = np.where(np.round(time_ax) == t_start)[0][0]\n",
    "    ind_stop = np.where(np.round(time_ax) == t_stop)[0][0]\n",
    "    \n",
    "    #if len(segList) == 1: \n",
    "    #    strain_seg = strain_ax[ind_start[0][0]:]\n",
    "    #    time_seg = time_ax[ind_start[0][0]:]\n",
    "    \n",
    "    strain_seg = strain_ax[ind_start:ind_stop]\n",
    "    time_seg = time_ax[ind_start:ind_stop]\n",
    "    \n",
    "    # determine the time since GPS start (in seconds)\n",
    "    real_time = np.linspace(0, abs(time_seg[0] - time_seg[-1]), num = len(strain_seg)) #currently not worrking 7/20/21\n",
    "    \n",
    "\n",
    "    if plot == True:\n",
    "        plt.figure(figsize=(8,5))\n",
    "        plt.plot(time_seg, strain_seg)\n",
    "        plt.title('Segment: ' + str(seg))\n",
    "        plt.xlabel('GPS Time' )\n",
    "        plt.ylabel('Strain')\n",
    "        #plt.title('GW150914')  might want to add in a name file eventually \n",
    "        plt.grid()\n",
    "        plt.show()\n",
    "        \n",
    "    '''if plt_bin == True:\n",
    "        N = 10000 # bin size of data to help with visualization\n",
    "        plt.figure(figsize=(8,5))\n",
    "        plt.plot(time_seg, strain_seg)\n",
    "        \n",
    "        plt.title('Binned Segment:' + str(seg))\n",
    "        #plt.title('Binned Segment[0:' + str(N) + ']: '+ str(seg))\n",
    "        plt.xlabel('Seconds since GPS ' + str(time_seg[0]) )\n",
    "        plt.ylabel('Strain')\n",
    "        #plt.title('GW150914')  might want to add in a name file eventually \n",
    "        plt.grid()\n",
    "        plt.show()'''\n",
    "        \n",
    "    #return ind_start, ind_stop , strain_seg  \n",
    "    return strain_seg,time_seg, real_time"
   ]
  },
  {
   "cell_type": "code",
   "execution_count": null,
   "metadata": {
    "scrolled": false
   },
   "outputs": [],
   "source": [
    "strain_seg,time_seg, real_time = GoodData(time, strain, dt, segList1, plot = True, plt_bin = False)"
   ]
  },
  {
   "cell_type": "code",
   "execution_count": null,
   "metadata": {},
   "outputs": [],
   "source": []
  },
  {
   "cell_type": "markdown",
   "metadata": {},
   "source": [
    "# Tukey Window"
   ]
  },
  {
   "cell_type": "code",
   "execution_count": null,
   "metadata": {},
   "outputs": [],
   "source": [
    "def Window(strain, time_ax, fs, plot_window=False, plot_raw=False, oplot=False):\n",
    "    \n",
    "    time_center = 1126259462 # For GW150914\n",
    "    window_len = 4 * fs\n",
    "    dwindow = scipy.signal.tukey(window_len, alpha = 1. / 4)\n",
    "    \n",
    "    indxt = np.where((time_ax >= time_center - 2) & (time_ax < time_center + 2))\n",
    "    \n",
    "    window_strain = strain[indxt] * dwindow\n",
    "    window_time = time_ax[indxt]\n",
    "    \n",
    "    \n",
    "    if plot_raw == True:\n",
    "        plt.figure(figsize=(8,5))\n",
    "        plt.plot(time_ax[indxt]-time_center, strain[indxt], label = 'Raw')\n",
    "        plt.xlabel('GPS time')\n",
    "        plt.ylabel('Strain')\n",
    "        plt.legend()\n",
    "        plt.grid()\n",
    "        plt.show()\n",
    "        \n",
    "    if plot_window == True:\n",
    "        plt.figure(figsize=(8,5))\n",
    "        plt.plot(window_time-time_center, window_strain, label = 'Windowed')\n",
    "        plt.xlabel('GPS time')\n",
    "        plt.ylabel('Strain')\n",
    "        plt.legend()\n",
    "        plt.grid()\n",
    "        plt.show()\n",
    "        \n",
    "    if oplot == True: \n",
    "        plt.figure(figsize=(8,5))\n",
    "        plt.plot(time_ax[indxt]-time_center, strain[indxt], label = 'Raw')\n",
    "        plt.plot(window_time-time_center, window_strain, label = 'Windowed')\n",
    "        plt.xlabel('Time [s]')\n",
    "        plt.ylabel('Strain')\n",
    "        plt.legend()\n",
    "        plt.grid()\n",
    "        plt.show()\n",
    "        \n",
    "    return window_strain, window_time, dwindow, time_center\n",
    "    # source: https://github.com/losc-tutorial/Data_Guide/blob/master/Guide_Notebook.ipynb"
   ]
  },
  {
   "cell_type": "code",
   "execution_count": null,
   "metadata": {
    "scrolled": false
   },
   "outputs": [],
   "source": [
    "window_strain, window_time, window, time_center = Window(strain_seg, time_seg, sf, plot_window=False, plot_raw=False, oplot=True)"
   ]
  },
  {
   "cell_type": "code",
   "execution_count": null,
   "metadata": {},
   "outputs": [],
   "source": []
  },
  {
   "cell_type": "code",
   "execution_count": null,
   "metadata": {},
   "outputs": [],
   "source": []
  },
  {
   "cell_type": "markdown",
   "metadata": {},
   "source": [
    "# Whiten Spectrum"
   ]
  },
  {
   "cell_type": "code",
   "execution_count": null,
   "metadata": {},
   "outputs": [],
   "source": [
    "def WhiteWindow(strain, time_ax, fs, dt, phase_shift=0, time_shift=0\n",
    "                , plot_window=False, plot_raw=False, oplot=True, psd=False, white_window=False):\n",
    "    '''\n",
    "    Places a Tukey window around the raw strain data and \n",
    "        whitens strain data given a raw PSD and sampling frequency, can also apply phase and time shift to data \n",
    "    \n",
    "    Args: \n",
    "        strain(ndarray): strain data \n",
    "        interp_psd(interpolating fuinction): function that takes in freq data and outputs \n",
    "            the avg pwr at the freq\n",
    "        dt(float): sample time interval for data\n",
    "        phase_shift(float, optional): phase shift to apply to the whitened data \n",
    "        time_shift(float, optional): time shift to apply to whitened data (s)\n",
    "    '''\n",
    "    \n",
    "    # Window\n",
    "    window_strain, window_time, window, time_center = Window(strain, time_ax, fs\n",
    "                                                             , plot_window=plot_window, plot_raw=plot_raw, oplot=oplot)\n",
    "    \n",
    "    # FFT\n",
    "    Nt = len(window_strain)\n",
    "    freqs = np.fft.rfftfreq(Nt, dt)\n",
    "    hf = np.fft.rfft(window_strain)\n",
    "    \n",
    "    # apply phase to strain data\n",
    "    hf = hf * np.exp(np.exp(-1.j * 2 * np.pi * time_shift * freqs - 1.j * phase_shift))\n",
    "    \n",
    "    # normalization & whiten data \n",
    "    pxx, f_psd = PSD(strain, fs, window, plot=psd)  \n",
    "    \n",
    "    norm = 1. / np.sqrt(1./(dt*2)) # normalization factor \n",
    "    white_hf = hf / np.sqrt(pxx) * norm # whitening: transform to freq domain, divide by square root of psd \n",
    "    white_ht = np.fft.irfft(white_hf, n = Nt) # ifft the whitened spectrum back into strain data\n",
    "    \n",
    "    if white_window == True: \n",
    "        plt.figure(figsize=(10,4))\n",
    "        plt.plot(window_time-time_center, white_ht, label = 'Whitened')\n",
    "        plt.xlabel('Time [s]')\n",
    "        plt.ylabel('Strain')\n",
    "        plt.legend()\n",
    "        plt.grid()\n",
    "        plt.show()\n",
    "    \n",
    "    return white_ht"
   ]
  },
  {
   "cell_type": "code",
   "execution_count": null,
   "metadata": {
    "scrolled": false
   },
   "outputs": [],
   "source": [
    "white_ht = WhiteWindow(strain_seg, time_seg, sf, dt, phase_shift=0, time_shift=0\n",
    "                       , plot_window=False, plot_raw=False, oplot=True, psd=True, white_window=True)\n"
   ]
  },
  {
   "cell_type": "code",
   "execution_count": null,
   "metadata": {},
   "outputs": [],
   "source": []
  },
  {
   "cell_type": "code",
   "execution_count": null,
   "metadata": {},
   "outputs": [],
   "source": []
  },
  {
   "cell_type": "code",
   "execution_count": null,
   "metadata": {},
   "outputs": [],
   "source": []
  },
  {
   "cell_type": "markdown",
   "metadata": {},
   "source": [
    "# Bandpass Filter"
   ]
  },
  {
   "cell_type": "code",
   "execution_count": null,
   "metadata": {},
   "outputs": [],
   "source": [
    "def bandpass(strain, fband, fs,time, t_event, bp_full=False, event=False):\n",
    "    bb, ab = butter(4, [fband[0]*2./fs , fband[1]*2./fs], btype='band')\n",
    "    normalization = np.sqrt((fband[1]-fband[0])/(fs/2))\n",
    "    strain_bp = filtfilt(bb, ab, strain)/normalization\n",
    "    \n",
    "    # Find the chirp signal\n",
    "    chirp_ind = np.where(strain_bp == max(strain_bp))[0][0]\n",
    "    chirp_strain = strain_bp[chirp_ind-500:chirp_ind+200]\n",
    "    chirp_time = time[chirp_ind-500:chirp_ind+200] - t_event\n",
    "    \n",
    "    if bp_full == True:\n",
    "        # plot full whitened and bandpassed data\n",
    "        plt.figure(figsize=(10,4))\n",
    "        plt.plot(window_time-time_center, strain_bp/2000, label = 'Whitened & Bandpassed') # might need to define windowtime in here \n",
    "        plt.title('GW150914 Full Event')\n",
    "        plt.xlabel('Time [s]')\n",
    "        plt.ylabel('Strain $(10^{-21})$')\n",
    "        plt.legend()\n",
    "        plt.grid()\n",
    "        plt.show()\n",
    "        \n",
    "    if event == True:\n",
    "        # plot full whitened and bandpassed data\n",
    "        plt.figure(figsize=(10,4))\n",
    "        plt.plot(time[chirp_ind-500:chirp_ind+200] - t_event, strain_bp[chirp_ind-500:chirp_ind+200]/2000\n",
    "                 , label = 'Whitened & Bandpassed')\n",
    "        plt.title('GW150914 Chirp Signal')\n",
    "        plt.xlabel('Time [s]')\n",
    "        plt.ylabel('Strain $(10^{-21})$')\n",
    "        plt.legend()\n",
    "        plt.grid()\n",
    "        plt.show()\n",
    "        \n",
    "    return strain_bp, chirp_strain, chirp_time"
   ]
  },
  {
   "cell_type": "code",
   "execution_count": null,
   "metadata": {
    "scrolled": false
   },
   "outputs": [],
   "source": [
    "strain_bp, chirp_strain, chirp_time = bandpass(white_ht, [70., 400.], sf, window_time, time_center\n",
    "                                               , bp_full=True, event=True)"
   ]
  },
  {
   "cell_type": "code",
   "execution_count": null,
   "metadata": {},
   "outputs": [],
   "source": [
    "len(chirp_time), len(chirp_strain), len(window)"
   ]
  },
  {
   "cell_type": "code",
   "execution_count": null,
   "metadata": {},
   "outputs": [],
   "source": []
  },
  {
   "cell_type": "markdown",
   "metadata": {},
   "source": [
    "# Model Fitting "
   ]
  },
  {
   "cell_type": "markdown",
   "metadata": {},
   "source": [
    "### Necessary Experessions\n",
    "\n",
    "$$\\boxed{h_{IFO} = 2 K sin (2\\Phi) \\left[\\frac{A}{2}cot(2\\Phi) \\left(1+cos^2i\\right) + B cosi\\right]}$$\n",
    "\n",
    "$$K\\equiv \\frac{2 \\mathcal{M}}{d} \\left(\\pi \\mathcal{M}\\mathcal{f}\\right)^{2/3}$$\n",
    "\n",
    "$$\\Phi(t) \\equiv -2 \\left(\\frac{T-t}{5 \\mathcal{M}}\\right)^{5/8}$$ \n",
    "    \n",
    "$$\\mathcal{f} \\equiv \\frac{1}{\\pi \\mathcal{M}} \\left[\\frac{5}{256} \\frac{\\mathcal{M}}{T-t}\\right]^{3/8}$$\n"
   ]
  },
  {
   "cell_type": "code",
   "execution_count": null,
   "metadata": {},
   "outputs": [],
   "source": [
    "def h_IFO(K, phi, A, B, i):\n",
    "    return 2 * K * np.sin(2*phi) *( (A/2) * (np.cos(2*phi)/np.sin(2*phi)) * (1+np.cos(i)**2) + B * np.cos(i))"
   ]
  },
  {
   "cell_type": "code",
   "execution_count": null,
   "metadata": {},
   "outputs": [],
   "source": [
    "def K(M_c, d, f):\n",
    "    return ((2*M_c)/d) * (np.pi * M_c * f) **(2/3)"
   ]
  },
  {
   "cell_type": "code",
   "execution_count": null,
   "metadata": {},
   "outputs": [],
   "source": [
    "def Phi(chirp_mass, T, t):\n",
    "    return abs(-2 * ((T-t) / (5* chirp_mass))**(5/8))  # since its being passed into cos, negative shouldnt matter\n",
    "    # check to see if T-t makes this return an array "
   ]
  },
  {
   "cell_type": "code",
   "execution_count": null,
   "metadata": {},
   "outputs": [],
   "source": [
    "def F(chirp_mass, T, t):\n",
    "    return (1/(np.pi * chirp_mass)) * ( (5/256) * (chirp_mass/(T-t)))**(3/8) \n",
    "    # check to see if T-t makes this return an array "
   ]
  },
  {
   "cell_type": "code",
   "execution_count": null,
   "metadata": {},
   "outputs": [],
   "source": [
    "# Data for GW150914\n",
    "\n",
    "M_c = 28.6 # from LIGO GWTC-1\n",
    "t = window_time - t_merge_centered\n",
    "t_merge_gps = 1126259462 #GPS time\n",
    "t_merge_centered = window_time[np.where(strain_bp == max(strain_bp))[0][0]]-t_merge_gps\n",
    "d = 440 # Mpc\n",
    "len(t), len(strain_bp)"
   ]
  },
  {
   "cell_type": "code",
   "execution_count": null,
   "metadata": {
    "scrolled": true
   },
   "outputs": [],
   "source": [
    "np.where(strain_bp == max(strain_bp))[0][0]"
   ]
  },
  {
   "cell_type": "code",
   "execution_count": null,
   "metadata": {},
   "outputs": [],
   "source": [
    "phi = Phi(M_c, t_merge_centered, t) \n",
    "phi[np.where(np.isnan(phi) == True)[0]] = 0\n",
    "np.where(phi == 0)"
   ]
  },
  {
   "cell_type": "code",
   "execution_count": null,
   "metadata": {},
   "outputs": [],
   "source": [
    "f = F(M_c, t_merge_centered, t)\n",
    "f[np.where(np.isnan(f) == True)[0]] = 0\n",
    "np.where(f == 0)"
   ]
  },
  {
   "cell_type": "code",
   "execution_count": null,
   "metadata": {},
   "outputs": [],
   "source": [
    "k = K(M_c, d, f)\n",
    "k[np.where(np.isnan(k) == True)[0]] = 0\n",
    "len(k)"
   ]
  },
  {
   "cell_type": "code",
   "execution_count": null,
   "metadata": {},
   "outputs": [],
   "source": [
    "p, cove = curve_fit(h_IFO, t, strain_bp, p0=[]) \n",
    "print('actual inc: i ~ 1.225 rad')\n",
    "print('inc est: ' + str(np.round(p[1], 4)) + ' rad')\n",
    "p"
   ]
  },
  {
   "cell_type": "code",
   "execution_count": null,
   "metadata": {},
   "outputs": [],
   "source": []
  },
  {
   "cell_type": "code",
   "execution_count": null,
   "metadata": {},
   "outputs": [],
   "source": []
  },
  {
   "cell_type": "code",
   "execution_count": null,
   "metadata": {},
   "outputs": [],
   "source": []
  },
  {
   "cell_type": "code",
   "execution_count": null,
   "metadata": {},
   "outputs": [],
   "source": []
  },
  {
   "cell_type": "code",
   "execution_count": null,
   "metadata": {},
   "outputs": [],
   "source": []
  },
  {
   "cell_type": "code",
   "execution_count": null,
   "metadata": {},
   "outputs": [],
   "source": []
  },
  {
   "cell_type": "code",
   "execution_count": null,
   "metadata": {},
   "outputs": [],
   "source": []
  },
  {
   "cell_type": "code",
   "execution_count": null,
   "metadata": {},
   "outputs": [],
   "source": []
  },
  {
   "cell_type": "code",
   "execution_count": null,
   "metadata": {},
   "outputs": [],
   "source": []
  },
  {
   "cell_type": "code",
   "execution_count": null,
   "metadata": {},
   "outputs": [],
   "source": []
  },
  {
   "cell_type": "markdown",
   "metadata": {},
   "source": [
    "# Spectrogram\n",
    "\n",
    "Y'all don't need to worry about this part...unless you're interested lol\n",
    "(source: http://www.ceri.memphis.edu/people/mwithers/CERI7106/other/GW150914_tutorial.html)"
   ]
  },
  {
   "cell_type": "code",
   "execution_count": null,
   "metadata": {},
   "outputs": [],
   "source": [
    "NFFT = len(window)\n",
    "NOVL = NFFT*15/16\n",
    "winodow = np.blackman(NFFT)\n",
    "delta = 10.\n",
    "len(window), len(window_strain), NFFT"
   ]
  },
  {
   "cell_type": "code",
   "execution_count": null,
   "metadata": {
    "scrolled": false
   },
   "outputs": [],
   "source": [
    "plt.figure()\n",
    "spec_H1, freqs_spec, bins, im = plt.specgram(strain_bp, NFFT=NFFT, Fs=sf, window=window, \n",
    "                                        noverlap=NOVL, cmap='viridis', xextent = ([-delta, delta]))\n",
    "plt.colorbar()\n",
    "plt.axis([-0.5, 0.5, 0, 500])\n",
    "plt.ylabel('Freq [Hz]')\n",
    "plt.xlabel('Time [s]')\n",
    "plt.show()"
   ]
  },
  {
   "cell_type": "code",
   "execution_count": null,
   "metadata": {
    "scrolled": false
   },
   "outputs": [],
   "source": [
    "len(window), len(window_strain)"
   ]
  },
  {
   "cell_type": "code",
   "execution_count": null,
   "metadata": {},
   "outputs": [],
   "source": []
  },
  {
   "cell_type": "code",
   "execution_count": null,
   "metadata": {},
   "outputs": [],
   "source": []
  },
  {
   "cell_type": "code",
   "execution_count": null,
   "metadata": {},
   "outputs": [],
   "source": []
  },
  {
   "cell_type": "code",
   "execution_count": null,
   "metadata": {},
   "outputs": [],
   "source": []
  },
  {
   "cell_type": "code",
   "execution_count": null,
   "metadata": {},
   "outputs": [],
   "source": []
  },
  {
   "cell_type": "code",
   "execution_count": null,
   "metadata": {},
   "outputs": [],
   "source": []
  },
  {
   "cell_type": "code",
   "execution_count": null,
   "metadata": {},
   "outputs": [],
   "source": []
  },
  {
   "cell_type": "code",
   "execution_count": null,
   "metadata": {},
   "outputs": [],
   "source": []
  }
 ],
 "metadata": {
  "kernelspec": {
   "display_name": "Python 3",
   "language": "python",
   "name": "python3"
  },
  "language_info": {
   "codemirror_mode": {
    "name": "ipython",
    "version": 3
   },
   "file_extension": ".py",
   "mimetype": "text/x-python",
   "name": "python",
   "nbconvert_exporter": "python",
   "pygments_lexer": "ipython3",
   "version": "3.7.3"
  }
 },
 "nbformat": 4,
 "nbformat_minor": 2
}
