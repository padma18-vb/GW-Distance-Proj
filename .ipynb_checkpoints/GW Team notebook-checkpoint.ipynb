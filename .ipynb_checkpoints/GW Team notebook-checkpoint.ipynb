{
 "cells": [
  {
   "cell_type": "markdown",
   "metadata": {},
   "source": [
    "# Non-Localized Gravitational Wave Distances"
   ]
  },
  {
   "cell_type": "markdown",
   "metadata": {},
   "source": [
    "The non localized distance to a gravitaitonal wave signal can be estimated using the equation \n",
    "\n",
    "$$D = \\frac{2c}{h_+} \\left( \\frac{G \\mathcal{M}}{c^3}\\right)^{5/3} \\Omega^{\\frac{2}{3}}(t) \\left(1+cos^2i\\right) cos2\\Phi(t)$$\n",
    "\n",
    "where $h_+$ is the maximum strain of the GW, $\\mathcal{M}$ is the Chirp Mass of the gravitational wave. $\\Omega(t)$ is the Keplerian orbital frequency over time. \"Keplerian\" just means it was derived from Kepler's laws of orbital motion and Newton's theory of gravity instead of Einsteins theory of General Relativity. $\\Phi(t)$ is the accumulated orbital phase (this term is a type of mathematical correction to fix the build up of errors when integrating the orbital frequency $\\Omega$ over a continuous time interval). \n",
    "\n",
    "\n",
    "Note: When perfoming the calculation, however, you get a more accurate estimate of the distance using the Combined mass $M$ the GW instead of the Chirp mass $\\mathcal{M}$. I am not sure why this is the case, but I will keep looking. If you have any ideas as to why this discrepency exist, let me know!\n",
    "\n"
   ]
  },
  {
   "cell_type": "markdown",
   "metadata": {},
   "source": [
    "The goal of this assignment is to derive an analytic expression for $D$  which can be used to estimate distances. To do this, we first need to derive a funcitonal form of  $\\Omega(t)$  and  $\\Phi(t)$. \n",
    "\n",
    "The first equation you will be deriving is $\\Omega(t)$. To do this, solve the first order differential equation below for an expression where $\\Omega \\propto t$. Watch your exponents! \n",
    "\n",
    "\n",
    "$$\\frac{d\\Omega}{dt} = \\frac{96}{5}\\left(\\frac{G \\mathcal{M}}{c^3}\\right)^{5/3}\\Omega^{11/3}$$"
   ]
  },
  {
   "cell_type": "markdown",
   "metadata": {},
   "source": [
    "Next, we will need to derive an expression for the function $\\Phi(t)$. The general equation for $\\Phi(t)$ is:\n",
    "\n",
    "$$\\Phi(t) = \\int_t{\\Omega(t)} dt$$\n",
    "\n",
    "To solve for $\\Phi(t)$, plug your expression for $\\omega(t)$ into the integral above and integrate from $0 \\rightarrow t$, and once again, watch your exponents!"
   ]
  },
  {
   "cell_type": "markdown",
   "metadata": {},
   "source": [
    "And that should be all the parts we need to begin developing a calculator! If you are feeling adventurous, try plugging in these values from GW150914. The observable parameters you need are $Combined$ $Mass$ ($M$), the maximum strain ($h_+$), and the duration of the signal in seconds ($t$). \n",
    "\n",
    "$t = 32s$\n",
    "\n",
    "$M = 63.1 M_{\\odot}$\n",
    "\n",
    "$h_+ = 7.912043421880075 \\times 10^{-19} Hz$"
   ]
  },
  {
   "cell_type": "markdown",
   "metadata": {},
   "source": [
    "#### Imports"
   ]
  },
  {
   "cell_type": "code",
   "execution_count": 2,
   "metadata": {},
   "outputs": [],
   "source": [
    "import math\n",
    "import numpy as np\n",
    "from astropy.table import Table\n",
    "import pandas as pd"
   ]
  },
  {
   "cell_type": "markdown",
   "metadata": {},
   "source": [
    "#### Distance calculator"
   ]
  },
  {
   "cell_type": "code",
   "execution_count": 3,
   "metadata": {},
   "outputs": [
    {
     "data": {
      "text/plain": [
       "394.17565185908205"
      ]
     },
     "execution_count": 3,
     "metadata": {},
     "output_type": "execute_result"
    }
   ],
   "source": [
    "G = 6.67e-11 # N kg^-2 m^2\n",
    "c = 3e8 # m/s\n",
    "\n",
    "def distance_to_GW(t, M_sol, h_max, i):\n",
    "    '''This function will give the non-localized distance (in Mpc) to the gravitational wave \n",
    "    when inputting time in seconds, combined mass (or chirp mass) in solar masses, and the maximum strain in Hz.'''\n",
    "    \n",
    "    M = M_sol * (2 * 10**30) # gives mass in kg\n",
    "    \n",
    "    term1 = (5/256)**(3/8)\n",
    "    term2 = ((c**3) / (G * M))**(5/8)\n",
    "    term3 = (1 / (t**(3/8)))\n",
    "    term4 = (t**(5/8))\n",
    "    \n",
    "    orbital_freq = term1 * term2 * term3\n",
    "    orbital_phase = np.round(0.36571582 * term2 * term4)\n",
    "    \n",
    "    distance = (2*c / h_max) * (G*M / (c**3))**(5/3) * orbital_freq**(2/3) *(1 + np.cos(i)**2)* abs(np.cos(2 * orbital_phase)) # this is distance in meters\n",
    "    \n",
    "    #print(orbital_freq) # printed this just to check the value of it\n",
    "    #print(orbital_phase) # printed this just to check the value of it\n",
    "    \n",
    "    return distance / (9.223 * 10**18)#i returns distance in Mpc. 2.25 update: change [distance / (9.223 * 10**18), i]\n",
    "    # distance only, for debugging best_i_arr. If anyone need to use best_angle again, please change the return statement to the original one\n",
    "\n",
    "distance_to_GW(32, 63.1, 7.912043421880075e-19, np.pi/2)"
   ]
  },
  {
   "cell_type": "code",
   "execution_count": 4,
   "metadata": {},
   "outputs": [],
   "source": [
    "#array_of_inclinations = np.array([distance_to_GW(32, 63.1, 7.912043421880075e-19, x) for x in np.arange(0, np.pi/2, np.pi/180)])"
   ]
  },
  {
   "cell_type": "markdown",
   "metadata": {},
   "source": [
    "### Data"
   ]
  },
  {
   "cell_type": "code",
   "execution_count": 1,
   "metadata": {},
   "outputs": [],
   "source": [
    "GW150914 = 'H-H1_GWOSC_16KHZ_R1-1126259447-32.txt'\n",
    "GW151226 = 'H-H1_GWOSC_16KHZ_R1-1135136335-32.txt'\n",
    "GW170104 = 'H-H1_GWOSC_16KHZ_R1-1167559921-32.txt'\n",
    "GW170608 = 'H-H1_GWOSC_16KHZ_R1-1180922479-32.txt'\n",
    "GW170814 = 'H-H1_GWOSC_16KHZ_R1-1186741846-32.txt'\n",
    "GW170817 = 'H-H1_GWOSC_16KHZ_R1-1187008867-32.txt'\n",
    "GW190425 = 'L-L1_GWOSC_16KHZ_R1-1240215487-32.txt' #not sure about this one, there was no H1 file for this, only L1 and V1\n",
    "GW190412 = 'H-H1_GWOSC_16KHZ_R1-1239082247-32.txt'\n",
    "GW190814 = 'H-H1_GWOSC_16KHZ_R1-1249852241-32.txt'\n",
    "GW190521 = 'H-H1_GWOSC_16KHZ_R2-1242442952-32.txt'"
   ]
  },
  {
   "cell_type": "markdown",
   "metadata": {},
   "source": [
    "### To do:\n",
    "1. File - i need to extract the max strain; find luminosity distance; find final mass (try to automate?? low priority)\n",
    "2. For each data set:\n",
    "    find the gravitational distance for angles 0 to 90 (deg)\n",
    "    optimize the result (should be an array of 90 values) for best distance using given luminosity distance\n",
    "    return best distance and best angle as an array\n",
    "3. The 'main' function should: carry this out for each dataset and return an array of arrays (dimension: no.of datasets x 2)\n"
   ]
  },
  {
   "cell_type": "code",
   "execution_count": 23,
   "metadata": {},
   "outputs": [],
   "source": [
    "def find_strain(filename):\n",
    "    '''\n",
    "    Arg: filename, str. \n",
    "    Returns: max_strain, float.\n",
    "    '''\n",
    "    df = pd.read_csv(filename, dtype = str, names = ['strain'])\n",
    "    df = df.drop(labels = [0,1,2], axis = 0).astype(float)\n",
    "    max_s = df['strain'].max()\n",
    "    return max_s\n",
    "\n",
    "def make_object(filename, distance, mass):\n",
    "    '''\n",
    "    Just a wrapper function.\n",
    "    Args: filename (str), luminosity distance (float), mass (float)\n",
    "    Returns: an gravitational wave object.'''\n",
    "    \n",
    "    strain = find_strain(filename)\n",
    "    return gw(filename, distance, mass, strain)"
   ]
  },
  {
   "cell_type": "code",
   "execution_count": 24,
   "metadata": {},
   "outputs": [],
   "source": [
    "# actual object making\n",
    "class gw:\n",
    "    def __init__(self, file, distance, mass, max_strain):\n",
    "        self.filename = file\n",
    "        self.luminosity_distance = distance\n",
    "        self.mass = mass\n",
    "        self.strain = max_strain\n",
    "        self.time = 32"
   ]
  },
  {
   "cell_type": "markdown",
   "metadata": {},
   "source": [
    "I can't automate this anymore as of now unfortunately! One of us will have to call make_object on each of these files, assign it to the wave's ID (example: GW150914).\n",
    "\n",
    "Further, I do recommend that we obtain the masses and distances from the website once again just in case - preferably, with one person naming the strain, and looking up those values, and another person doing the same and dictating the values - this is just me being paranoid lol so @Lawrence, we will follow your lead. "
   ]
  },
  {
   "cell_type": "code",
   "execution_count": null,
   "metadata": {},
   "outputs": [],
   "source": [
    "def best_distance(lum_dist, times, masses, max_str):\n",
    "    \n",
    "    #logistics\n",
    "    assert len(lum_dist) == len(times) == len(masses) == len(max_str) == 10\n",
    "    lum_dist = np.array(lum_dist)\n",
    "    masses = np.array(masses)\n",
    "    times = np.array(times)\n",
    "    max_str = np.array(max_str)\n",
    "    \n",
    "    #calc\n",
    "    distance_and_angles = []\n",
    "    for i in range(10):\n",
    "        d = [] #shape = (2, 90)\n",
    "        for angle in np.arange(0, np.pi/2, np.pi/180):\n",
    "            distance = distance_to_GW(times[i], masses[i], max_str[i], angle)\n",
    "            dist_for_angle = np.array([distance, angle])\n",
    "            d.append(dist_for_angle)\n",
    "        ith_dist_angle = best_result(d, lum_dist(i))\n",
    "        distance_and_angles.append(ith_dist_angle)\n",
    "        \n",
    "    return distance_and_angles\n",
    "\n",
    "\n",
    "def best_result(distances, lum_dist):\n",
    "    '''Computes the best angle by minimizing the distances calculated to the actual distance'''\n",
    "    best_difference = float('inf')\n",
    "    best_angle = 0\n",
    "    \n",
    "    for i in distances: \n",
    "        \n",
    "        best_d = abs(i[0] - lum_dist) #i[0] = estimated distance\n",
    "        \n",
    "        if best_d < best_difference:\n",
    "            best_difference = best_d\n",
    "            best_arr = i\n",
    "            \n",
    "    return best_arr"
   ]
  },
  {
   "cell_type": "markdown",
   "metadata": {},
   "source": [
    "##### *****"
   ]
  },
  {
   "cell_type": "code",
   "execution_count": null,
   "metadata": {},
   "outputs": [],
   "source": [
    "'''\n",
    "def best_i(actual_dis, f): # a helper function for best_i_arr, does similar things as best_angle\n",
    "    angle_lst = np.arange(0, math.pi / 2, math.pi / 180)\n",
    "    best_dif = float('inf')\n",
    "    best_i = 0\n",
    "    for i in range(len(angle_lst)):\n",
    "        d = f(angle_lst[i])\n",
    "        if abs(d - actual_dis) < best_dif:\n",
    "            best_i = angle_lst[i]\n",
    "            best_dif = abs(d - actual_dis)\n",
    "\n",
    "    return best_i\n",
    "\n",
    "def best_i_arr(actual_arr, t_arr, chirp_mass_arr, h_max_arr): # give it arrays of: actual distance, time, h_max, and chirp_mass\n",
    "    i_array = []\n",
    "    #f_arr = []  a helper function array that returns gw_distance but only need to input angle i\n",
    "    #for n in range(len(t_arr)):\n",
    "        #f_arr.append(lambda x: distance_to_GW(t_arr[n],chirp_mass_arr[n], h_max_arr[n], x))\n",
    "\n",
    "    for m in range(len(f_arr)):\n",
    "        i_array.append(best_i(actual_arr[m], f_arr[m]))\n",
    "        print(best_i(actual_arr[m], f_arr[m]))\n",
    "\n",
    "    return i_array\n",
    "\n",
    "def gw_dis_array(t_arr, chirp_mass_arr, h_max_arr, i_arr):\n",
    "    ret = []\n",
    "    for i in range(len(t_arr)):\n",
    "        ret.append(distance_to_GW(t_arr[i], chirp_mass_arr[i], h_max_arr[i], i_arr[i]))\n",
    "    return ret\n",
    "'''"
   ]
  },
  {
   "cell_type": "code",
   "execution_count": null,
   "metadata": {},
   "outputs": [],
   "source": [
    "GW150914_strain = GW150914_tbl['6.0951345581611108e-21']\n",
    "GW151226_strain = GW151226_tbl['2.7996600287459531e-20']\n",
    "GW170104_strain = GW170104_tbl['-2.9550085672987675e-19']\n",
    "GW170608_strain = GW170608_tbl['1.6421373582598675e-20']\n",
    "GW170814_strain = GW170814_tbl['-7.6681619209110251e-19']\n",
    "GW170817_strain = GW170817_tbl['5.8751133791669278e-19']\n",
    "GW190425_strain = GW190425_tbl['-5.5244482372502713e-20'] #this is the L1 file\n",
    "GW190412_strain = GW190412_tbl['-4.4229543869287918e-19']\n",
    "GW190814_strain = GW190814_tbl['-3.0160263673448252e-20']\n",
    "GW190521_strain = GW190521_tbl['-6.9973189495553901e-21']"
   ]
  }
 ],
 "metadata": {
  "kernelspec": {
   "display_name": "Python 3",
   "language": "python",
   "name": "python3"
  },
  "language_info": {
   "codemirror_mode": {
    "name": "ipython",
    "version": 3
   },
   "file_extension": ".py",
   "mimetype": "text/x-python",
   "name": "python",
   "nbconvert_exporter": "python",
   "pygments_lexer": "ipython3",
   "version": "3.8.5"
  }
 },
 "nbformat": 4,
 "nbformat_minor": 2
}
