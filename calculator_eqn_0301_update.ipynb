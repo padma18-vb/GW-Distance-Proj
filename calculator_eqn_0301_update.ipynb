{
 "cells": [
  {
   "cell_type": "markdown",
   "metadata": {},
   "source": [
    "# Non-Localized Gravitational Wave Distances"
   ]
  },
  {
   "cell_type": "markdown",
   "metadata": {},
   "source": [
    "The non localized distance to a gravitaitonal wave signal can be estimated using the equation \n",
    "\n",
    "$$D = \\frac{2c}{h_+} \\left( \\frac{G \\mathcal{M}}{c^3}\\right)^{5/3} \\Omega^{\\frac{2}{3}}(t) \\left(1+cos^2i\\right) cos2\\Phi(t)$$\n",
    "\n",
    "where $h_+$ is the maximum strain of the GW, $\\mathcal{M}$ is the Chirp Mass of the gravitational wave. $\\Omega(t)$ is the Keplerian orbital frequency over time. \"Keplerian\" just means it was derived from Kepler's laws of orbital motion and Newton's theory of gravity instead of Einsteins theory of General Relativity. $\\Phi(t)$ is the accumulated orbital phase (this term is a type of mathemitcal correction to fix the build up of errors when integrating the orbital frequency $\\Omega$ over a continuous time interval). \n",
    "\n",
    "\n",
    "Note: When perfoming the calculation, however, you get a more accurate estimate of the distance using the Combined mass $M$ the GW instead of the Chirp mass $\\mathcal{M}$. I am not sure why this is the case, but I will keep looking. If you have any ideas as to why this discrepency exist, let me know!\n",
    "\n"
   ]
  },
  {
   "cell_type": "markdown",
   "metadata": {},
   "source": [
    "The goal of this assignment is to derive an analytic expression for $D$  which can be used to estimate distances. To do this, we first need to derive a funcitonal form of  $\\Omega(t)$  and  $\\Phi(t)$. \n",
    "\n",
    "The first equation you will be deriving is $\\Omega(t)$. To do this, solve the first order differential equation below for an expression where $\\Omega \\propto t$. Watch your exponents! \n",
    "\n",
    "\n",
    "$$\\frac{d\\Omega}{dt} = \\frac{96}{5}\\left(\\frac{G \\mathcal{M}}{c^3}\\right)^{5/3}\\Omega^{11/3}$$"
   ]
  },
  {
   "cell_type": "markdown",
   "metadata": {},
   "source": [
    "Next, we will need to derive an expression for the function $\\Phi(t)$. The general equation for $\\Phi(t)$ is:\n",
    "\n",
    "$$\\Phi(t) = \\int_t{\\Omega(t)} dt$$\n",
    "\n",
    "To solve for $\\Phi(t)$, plug your expression for $\\omega(t)$ into the integral above and integrate from $0 \\rightarrow t$, and once again, watch your exponents!"
   ]
  },
  {
   "cell_type": "markdown",
   "metadata": {},
   "source": [
    "And that should be all the parts we need to begin developing a calculator! If you are feeling adventurous, try plugging in these values from GW150914. The observable parameters you need are $Combined$ $Mass$ ($M$), the maximum strain ($h_+$), and the duration of the signal in seconds ($t$). \n",
    "\n",
    "$t = 32s$\n",
    "\n",
    "$M = 63.1 M_{\\odot}$\n",
    "\n",
    "$h_+ = 7.912043421880075 \\times 10^{-19} Hz$"
   ]
  },
  {
   "cell_type": "code",
   "execution_count": 2,
   "metadata": {},
   "outputs": [],
   "source": [
    "import math\n",
    "import numpy as np\n",
    "from astropy.table import Table"
   ]
  },
  {
   "cell_type": "code",
   "execution_count": 3,
   "metadata": {},
   "outputs": [
    {
     "data": {
      "text/plain": [
       "394.175651859082"
      ]
     },
     "execution_count": 3,
     "metadata": {},
     "output_type": "execute_result"
    }
   ],
   "source": [
    "G = 6.67e-11 # N kg^-2 m^2\n",
    "c = 3e8 # m/s\n",
    "\n",
    "def distance_to_GW(t, M_sol, h_max, i):\n",
    "    '''This function will give the non-localized distance (in Mpc) to the gravitational wave \n",
    "    when inputting time in seconds, combined mass (or chirp mass) in solar masses, and the maximum strain in Hz.'''\n",
    "    \n",
    "    M = M_sol * (2 * 10**30) # gives mass in kg\n",
    "    \n",
    "    term1 = (5/256)**(3/8)\n",
    "    term2 = ((c**3) / (G * M))**(5/8)\n",
    "    term3 = (1 / (t**(3/8)))\n",
    "    term4 = (t**(5/8))\n",
    "    \n",
    "    orbital_freq = term1 * term2 * term3\n",
    "    orbital_phase = np.round(0.36571582 * term2 * term4)\n",
    "    \n",
    "    distance = (2*c / h_max) * (G*M / (c**3))**(5/3) * orbital_freq**(2/3) *(1 + np.cos(i)**2)* abs(np.cos(2 * orbital_phase)) # this is distance in meters\n",
    "    \n",
    "    #print(orbital_freq) # printed this just to check the value of it\n",
    "    #print(orbital_phase) # printed this just to check the value of it\n",
    "    \n",
    "    return distance / (9.223 * 10**18)#i returns distance in Mpc. 2.25 update: change [distance / (9.223 * 10**18), i]\n",
    "    # distance only, for debugging best_i_arr. If anyone need to use best_angle again, please change the return statement to the original one\n",
    "\n",
    "distance_to_GW(32, 63.1, 7.912043421880075e-19, np.pi/2)"
   ]
  },
  {
   "cell_type": "code",
   "execution_count": 4,
   "metadata": {},
   "outputs": [],
   "source": [
    "array_of_inclinations = np.array([distance_to_GW(32, 63.1, 7.912043421880075e-19, x) for x in np.arange(0, np.pi/2, np.pi/180)])"
   ]
  },
  {
   "cell_type": "code",
   "execution_count": 5,
   "metadata": {},
   "outputs": [
    {
     "data": {
      "text/plain": [
       "\"def best_angle(distances):\\n    Computes the best angle by minimizing the distances calculated to the actual distance i.e 440 Mpc\\n    best_difference = float('inf')\\n    best_angle = 0\\n    \\n    for i in distances:\\n        \\n        best_d = abs(i[0] - best_value)\\n        \\n        if best_d < best_difference:\\n            best_difference = best_d\\n            best_angle = i[1]\\n            \\n    return best_angle\""
      ]
     },
     "execution_count": 5,
     "metadata": {},
     "output_type": "execute_result"
    }
   ],
   "source": [
    "'''def best_angle(distances):\n",
    "    Computes the best angle by minimizing the distances calculated to the actual distance i.e 440 Mpc\n",
    "    best_difference = float('inf')\n",
    "    best_angle = 0\n",
    "    \n",
    "    for i in distances:\n",
    "        \n",
    "        best_d = abs(i[0] - best_value)\n",
    "        \n",
    "        if best_d < best_difference:\n",
    "            best_difference = best_d\n",
    "            best_angle = i[1]\n",
    "            \n",
    "    return best_angle'''\n",
    "#best_angle(array_of_inclinations)"
   ]
  },
  {
   "cell_type": "code",
   "execution_count": 77,
   "metadata": {},
   "outputs": [],
   "source": [
    "def best_i(actual_dis, t, m, h_max): # a helper function for best_i_arr, does similar things as best_angle\n",
    "    angle_lst = np.arange(0, math.pi / 2, math.pi / 180)\n",
    "    best_dif = float('inf')\n",
    "    best_i = -1 #if the function returns -1 then something is wrong\n",
    "    for i in angle_lst:\n",
    "        d = distance_to_GW(t, m, h_max, i)\n",
    "        if abs(d - actual_dis) < best_dif:\n",
    "            best_i = i\n",
    "            best_dif = abs(d - actual_dis)\n",
    "    print(best_i)\n",
    "    return best_i\n",
    "\n",
    "def best_i_arr(actual_arr, t_arr, chirp_mass_arr, h_max_arr): # give it arrays of: actual distance, time, h_max, and chirp_mass\n",
    "    i_array = []\n",
    "    for n in range(len(actual_arr)):\n",
    "        #f = lambda x: distance_to_GW(t_arr[n],chirp_mass_arr[n], h_max_arr[n], x)  #a helper function array that returns gw_distance but only need to input angle i\n",
    "        i_array.append(best_i(actual_arr[n], t_arr[n], chirp_mass_arr[n], h_max_arr[n]))\n",
    "\n",
    "    return i_array\n",
    "\n",
    "def gw_dis_array(t_arr, chirp_mass_arr, h_max_arr, i_arr):\n",
    "    ret = []\n",
    "    for i in range(len(t_arr)):\n",
    "        ret.append(distance_to_GW(t_arr[i], chirp_mass_arr[i], h_max_arr[i], i_arr[i]))\n",
    "    return ret\n"
   ]
  },
  {
   "cell_type": "code",
   "execution_count": 78,
   "metadata": {},
   "outputs": [],
   "source": [
    "#best_i(440, lambda i: distance_to_GW(32, 63.1, 7.912043421880075e-19,i)) the version that takes in helper function f"
   ]
  },
  {
   "cell_type": "code",
   "execution_count": 79,
   "metadata": {},
   "outputs": [
    {
     "data": {
      "text/plain": [
       "1.5"
      ]
     },
     "execution_count": 79,
     "metadata": {},
     "output_type": "execute_result"
    }
   ],
   "source": [
    "a = np.arange(0,12,1.5)\n",
    "a[1]"
   ]
  },
  {
   "cell_type": "code",
   "execution_count": 80,
   "metadata": {},
   "outputs": [
    {
     "name": "stdout",
     "output_type": "stream",
     "text": [
      "1.2217304763960306\n"
     ]
    },
    {
     "data": {
      "text/plain": [
       "[1.2217304763960306]"
      ]
     },
     "execution_count": 80,
     "metadata": {},
     "output_type": "execute_result"
    }
   ],
   "source": [
    "best_i_arr([440], [32], [63.1], [7.912043421880075e-19])"
   ]
  },
  {
   "cell_type": "code",
   "execution_count": 81,
   "metadata": {},
   "outputs": [
    {
     "data": {
      "text/plain": [
       "[394.175651859082]"
      ]
     },
     "execution_count": 81,
     "metadata": {},
     "output_type": "execute_result"
    }
   ],
   "source": [
    "gw_dis_array([32], [63.1], [7.912043421880075e-19], [math.pi/2])"
   ]
  },
  {
   "cell_type": "markdown",
   "metadata": {},
   "source": [
    "All the data:"
   ]
  },
  {
   "cell_type": "code",
   "execution_count": 18,
   "metadata": {},
   "outputs": [],
   "source": [
    "GW150914 = 'H-H1_GWOSC_16KHZ_150914_R1-1126259447-32.txt'\n",
    "GW151226 = 'H-H1_GWOSC_16KHZ_151226_R1-1135136335-32.txt'\n",
    "GW170104 = 'H-H1_GWOSC_16KHZ_170104_R1-1167559921-32.txt'\n",
    "GW170608 = 'H-H1_GWOSC_16KHZ_170608_R1-1180922479-32.txt'\n",
    "GW170814 = 'H-H1_GWOSC_16KHZ_170814_R1-1186741846-32.txt'\n",
    "GW170817 = 'H-H1_GWOSC_16KHZ_170817_R1-1187008867-32.txt'\n",
    "GW190425 = 'L-L1_GWOSC_16KHZ_190425_R1-1240215487-32.txt' #not sure about this one, there was no H1 file for this, only L1 and V1\n",
    "GW190412 = 'H-H1_GWOSC_16KHZ_190412_R1-1239082247-32.txt'\n",
    "GW190814 = 'H-H1_GWOSC_16KHZ_190814_R1-1249852241-32.txt'\n",
    "GW190521 = 'H-H1_GWOSC_16KHZ_190521_R2-1242442952-32.txt'\n",
    "\n",
    "#I have no idea where the H1 file of GW190425 came from\n",
    "\n",
    "GW150914_tbl = Table.read(GW150914, format='ascii')\n",
    "GW151226_tbl = Table.read(GW151226, format='ascii')\n",
    "GW170104_tbl = Table.read(GW170104, format='ascii')\n",
    "GW170608_tbl = Table.read(GW170608, format='ascii')\n",
    "GW170814_tbl = Table.read(GW170814, format='ascii')\n",
    "GW170817_tbl = Table.read(GW170817, format='ascii')\n",
    "GW190425_tbl = Table.read(GW190425, format='ascii') #this is the L1 file\n",
    "GW190412_tbl = Table.read(GW190412, format='ascii')\n",
    "GW190814_tbl = Table.read(GW190814, format='ascii')\n",
    "GW190521_tbl = Table.read(GW190521, format='ascii')"
   ]
  },
  {
   "cell_type": "code",
   "execution_count": 19,
   "metadata": {},
   "outputs": [],
   "source": [
    "GW150914_strain = GW150914_tbl['6.0951345581611108e-21']\n",
    "GW151226_strain = GW151226_tbl['2.7996600287459531e-20']\n",
    "GW170104_strain = GW170104_tbl['-2.9550085672987675e-19']\n",
    "GW170608_strain = GW170608_tbl['1.6421373582598675e-20']\n",
    "GW170814_strain = GW170814_tbl['-7.6681619209110251e-19']\n",
    "GW170817_strain = GW170817_tbl['5.8751133791669278e-19']\n",
    "GW190425_strain = GW190425_tbl['-5.5244482372502713e-20'] #this is the L1 file\n",
    "GW190412_strain = GW190412_tbl['-4.4229543869287918e-19']\n",
    "GW190814_strain = GW190814_tbl['-3.0160263673448252e-20']\n",
    "GW190521_strain = GW190521_tbl['-6.9973189495553901e-21']"
   ]
  },
  {
   "cell_type": "code",
   "execution_count": 37,
   "metadata": {},
   "outputs": [
    {
     "data": {
      "text/plain": [
       "7.912043421880075e-19"
      ]
     },
     "execution_count": 37,
     "metadata": {},
     "output_type": "execute_result"
    }
   ],
   "source": [
    "np.max(GW150914_strain)"
   ]
  },
  {
   "cell_type": "code",
   "execution_count": 38,
   "metadata": {},
   "outputs": [],
   "source": [
    "luminosity_dist = [440, 450, 990, 320, 600, 40, 159, 740, 241, 5300]"
   ]
  },
  {
   "cell_type": "code",
   "execution_count": 39,
   "metadata": {},
   "outputs": [
    {
     "data": {
      "text/plain": [
       "[7.912043421880075e-19,\n",
       " 7.640939014258912e-19,\n",
       " 1.0986879804451416e-18,\n",
       " 1.2159378610812219e-18,\n",
       " 1.0322913226585846e-18,\n",
       " 1.2244850283828894e-18,\n",
       " 1.1425556737284505e-18,\n",
       " 7.765491340080865e-19,\n",
       " 2.2638776376416897e-19,\n",
       " 3.2156185028571846e-19]"
      ]
     },
     "execution_count": 39,
     "metadata": {},
     "output_type": "execute_result"
    }
   ],
   "source": [
    "strains = [GW150914_strain, GW151226_strain, GW170104_strain, GW170608_strain, GW170814_strain, GW170817_strain, GW190425_strain, GW190412_strain, GW190814_strain, GW190521_strain]\n",
    "max_strains = [max(i) for i in strains]\n",
    "max_strains"
   ]
  },
  {
   "cell_type": "code",
   "execution_count": 65,
   "metadata": {},
   "outputs": [],
   "source": [
    "times = [32, 32, 32, 32, 32, 32, 32, 32, 32, 32]\n",
    "final_masses = [63.1, 20.5, 48.9, 17.8, 53.2, 2.8, 3.3, 38.4, 25.8, 150]\n",
    "angles = [np.pi/2]*10"
   ]
  },
  {
   "cell_type": "code",
   "execution_count": 82,
   "metadata": {},
   "outputs": [
    {
     "data": {
      "text/plain": [
       "[394.175651859082,\n",
       " 94.19891921989779,\n",
       " 259.359971086683,\n",
       " 61.11345645856675,\n",
       " 88.36687441327018,\n",
       " 2.5335893505939415,\n",
       " 7.552106209846678,\n",
       " 129.01678145393177,\n",
       " 604.0358941240461,\n",
       " 3882.8653361535685]"
      ]
     },
     "execution_count": 82,
     "metadata": {},
     "output_type": "execute_result"
    }
   ],
   "source": [
    "gw_dis_array(times, final_masses, max_strains, angles)"
   ]
  },
  {
   "cell_type": "code",
   "execution_count": 83,
   "metadata": {},
   "outputs": [
    {
     "name": "stdout",
     "output_type": "stream",
     "text": [
      "1.2217304763960306\n",
      "0.0\n",
      "0.0\n",
      "0.0\n",
      "0.0\n",
      "0.0\n",
      "0.0\n",
      "0.0\n",
      "1.5533430342749532\n",
      "0.9250245035569946\n"
     ]
    },
    {
     "data": {
      "text/plain": [
       "[1.2217304763960306,\n",
       " 0.0,\n",
       " 0.0,\n",
       " 0.0,\n",
       " 0.0,\n",
       " 0.0,\n",
       " 0.0,\n",
       " 0.0,\n",
       " 1.5533430342749532,\n",
       " 0.9250245035569946]"
      ]
     },
     "execution_count": 83,
     "metadata": {},
     "output_type": "execute_result"
    }
   ],
   "source": [
    "best_i_arr(luminosity_dist, times, final_masses, max_strains)"
   ]
  },
  {
   "cell_type": "code",
   "execution_count": 84,
   "metadata": {},
   "outputs": [
    {
     "name": "stdout",
     "output_type": "stream",
     "text": [
      "1.2217304763960306\n",
      "1.2217304763960306\n",
      "0.0\n",
      "0.0\n",
      "0.0\n",
      "0.0\n",
      "0.0\n",
      "0.0\n",
      "0.0\n",
      "0.0\n",
      "0.0\n",
      "0.0\n",
      "0.0\n",
      "0.0\n",
      "0.0\n",
      "0.0\n",
      "1.5533430342749532\n",
      "1.5533430342749532\n",
      "0.9250245035569946\n",
      "0.9250245035569946\n"
     ]
    }
   ],
   "source": [
    "for i in range(10):\n",
    "    print(best_i(luminosity_dist[i], times[i], final_masses[i], max_strains[i]))"
   ]
  },
  {
   "cell_type": "code",
   "execution_count": 85,
   "metadata": {},
   "outputs": [
    {
     "name": "stdout",
     "output_type": "stream",
     "text": [
      "0.0\n"
     ]
    },
    {
     "data": {
      "text/plain": [
       "0.0"
      ]
     },
     "execution_count": 85,
     "metadata": {},
     "output_type": "execute_result"
    }
   ],
   "source": [
    "best_i(luminosity_dist[1], times[1], final_masses[1], max_strains[1])"
   ]
  },
  {
   "cell_type": "code",
   "execution_count": null,
   "metadata": {},
   "outputs": [],
   "source": []
  }
 ],
 "metadata": {
  "kernelspec": {
   "display_name": "Python 3",
   "language": "python",
   "name": "python3"
  },
  "language_info": {
   "codemirror_mode": {
    "name": "ipython",
    "version": 3
   },
   "file_extension": ".py",
   "mimetype": "text/x-python",
   "name": "python",
   "nbconvert_exporter": "python",
   "pygments_lexer": "ipython3",
   "version": "3.8.5"
  }
 },
 "nbformat": 4,
 "nbformat_minor": 2
}
